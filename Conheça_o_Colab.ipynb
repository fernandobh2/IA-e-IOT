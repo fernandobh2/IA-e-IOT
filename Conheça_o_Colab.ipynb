{
  "cells": [
    {
      "cell_type": "code",
      "source": [
        "# Dicionário com as notas de alguns alunos\n",
        "notas = {'Teo': 8.5, 'Cristiano': 8.9, 'Matson': 7.7}\n",
        "\n",
        "# 1- Exiba a nota do aluno Matson.\n",
        "print(\"1 - Nota do aluno Matson:\", notas['Matson'])\n",
        "\n",
        "# 2- Adicione um novo aluno chamado \"Bruna\" com a nota 8.7.\n",
        "notas['Bruna'] = 8.7\n",
        "print(\"2 - Adicionado aluno Bruna:\", notas)\n",
        "\n",
        "# 3- Atualize a nota do aluno \"Teo\" para 9.2.\n",
        "notas['Teo'] = 9.2\n",
        "print(\"3 - Nota atualizada do Teo:\", notas)\n",
        "\n",
        "# 4- Verifique se o aluno \"Carlos\" está no dicionário.\n",
        "print(\"4 - Carlos está no dicionário?\", 'Carlos' in notas)\n",
        "\n",
        "# 5- Apague o aluno \"Matson\" do dicionário.\n",
        "del notas['Matson']\n",
        "print(\"5 - Dicionário após remover Matson:\", notas)\n",
        "\n",
        "# 6- Adicione dois novos alunos com notas à sua escolha.\n",
        "notas['Larissa'] = 9.5\n",
        "notas['Pedro'] = 7.8\n",
        "print(\"6 - Novos alunos adicionados:\", notas)\n",
        "\n",
        "# 7- Mostre todas as chaves (nomes dos alunos).\n",
        "print(\"7 - Nomes dos alunos:\", list(notas.keys()))\n",
        "\n",
        "# 8- Mostre todos os valores (notas dos alunos).\n",
        "print(\"8 - Notas dos alunos:\", list(notas.values()))\n",
        "\n",
        "# 9- Use o método .get() para tentar buscar a nota de \"Islla\", e retorne \"Aluno não encontrado\" caso ele não exista.\n",
        "nota_islla = notas.get('Islla', 'Aluno não encontrado')\n",
        "print(\"9 - Nota de Islla:\", nota_islla)\n",
        "\n",
        "# 10- Use o método .get() para tentar buscar a nota de algum aluno, e retorne \"Aluno encontrado\".\n",
        "nota_cristiano = notas.get('Cristiano')\n",
        "if nota_cristiano is not None:\n",
        "    print(\"10 - Cristiano encontrado com nota:\", nota_cristiano)\n",
        "else:\n",
        "    print(\"10 - Aluno não encontrado\")\n"
      ],
      "metadata": {
        "id": "tATHV7ku862d",
        "outputId": "c4a4e33b-9617-48e7-9fb7-0597f8f96883",
        "colab": {
          "base_uri": "https://localhost:8080/"
        }
      },
      "execution_count": 2,
      "outputs": [
        {
          "output_type": "stream",
          "name": "stdout",
          "text": [
            "1 - Nota do aluno Matson: 7.7\n",
            "2 - Adicionado aluno Bruna: {'Teo': 8.5, 'Cristiano': 8.9, 'Matson': 7.7, 'Bruna': 8.7}\n",
            "3 - Nota atualizada do Teo: {'Teo': 9.2, 'Cristiano': 8.9, 'Matson': 7.7, 'Bruna': 8.7}\n",
            "4 - Carlos está no dicionário? False\n",
            "5 - Dicionário após remover Matson: {'Teo': 9.2, 'Cristiano': 8.9, 'Bruna': 8.7}\n",
            "6 - Novos alunos adicionados: {'Teo': 9.2, 'Cristiano': 8.9, 'Bruna': 8.7, 'Larissa': 9.5, 'Pedro': 7.8}\n",
            "7 - Nomes dos alunos: ['Teo', 'Cristiano', 'Bruna', 'Larissa', 'Pedro']\n",
            "8 - Notas dos alunos: [9.2, 8.9, 8.7, 9.5, 7.8]\n",
            "9 - Nota de Islla: Aluno não encontrado\n",
            "10 - Cristiano encontrado com nota: 8.9\n"
          ]
        }
      ]
    }
  ],
  "metadata": {
    "colab": {
      "name": "Conheça o Colab",
      "provenance": []
    },
    "kernelspec": {
      "display_name": "Python 3",
      "name": "python3"
    }
  },
  "nbformat": 4,
  "nbformat_minor": 0
}